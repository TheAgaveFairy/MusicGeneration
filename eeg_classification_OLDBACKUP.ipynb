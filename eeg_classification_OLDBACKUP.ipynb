{
 "cells": [
  {
   "cell_type": "code",
   "execution_count": 1,
   "metadata": {
    "id": "iczDc3H4Uh4Z"
   },
   "outputs": [],
   "source": [
    "import numpy as np\n",
    "import pandas as pd\n",
    "import os\n",
    "from tqdm import tqdm"
   ]
  },
  {
   "cell_type": "code",
   "execution_count": 2,
   "metadata": {
    "colab": {
     "base_uri": "https://localhost:8080/",
     "height": 92
    },
    "id": "9c8Z31L6UnCj",
    "outputId": "30aec92c-f6be-407e-c626-7ab7b84f6692"
   },
   "outputs": [
    {
     "name": "stdout",
     "output_type": "stream",
     "text": [
      "Please upload your kaggle.json key\n"
     ]
    },
    {
     "ename": "ModuleNotFoundError",
     "evalue": "No module named 'google.colab'",
     "output_type": "error",
     "traceback": [
      "\u001b[0;31m---------------------------------------------------------------------------\u001b[0m",
      "\u001b[0;31mModuleNotFoundError\u001b[0m                       Traceback (most recent call last)",
      "Cell \u001b[0;32mIn[2], line 3\u001b[0m\n\u001b[1;32m      1\u001b[0m get_ipython()\u001b[38;5;241m.\u001b[39msystem(\u001b[38;5;124m'\u001b[39m\u001b[38;5;124mpip install -q kaggle\u001b[39m\u001b[38;5;124m'\u001b[39m)\n\u001b[1;32m      2\u001b[0m \u001b[38;5;28mprint\u001b[39m(\u001b[38;5;124m\"\u001b[39m\u001b[38;5;124mPlease upload your kaggle.json key\u001b[39m\u001b[38;5;124m\"\u001b[39m)\n\u001b[0;32m----> 3\u001b[0m \u001b[38;5;28;01mfrom\u001b[39;00m \u001b[38;5;21;01mgoogle\u001b[39;00m\u001b[38;5;21;01m.\u001b[39;00m\u001b[38;5;21;01mcolab\u001b[39;00m \u001b[38;5;28;01mimport\u001b[39;00m files\n\u001b[1;32m      4\u001b[0m files\u001b[38;5;241m.\u001b[39mupload()\n\u001b[1;32m      6\u001b[0m get_ipython()\u001b[38;5;241m.\u001b[39msystem(\u001b[38;5;124m'\u001b[39m\u001b[38;5;124m mkdir ~/.kaggle\u001b[39m\u001b[38;5;124m'\u001b[39m)\n",
      "\u001b[0;31mModuleNotFoundError\u001b[0m: No module named 'google.colab'"
     ]
    }
   ],
   "source": [
    "!pip install -q kaggle\n",
    "print(\"Please upload your kaggle.json key\")\n",
    "from google.colab import files\n",
    "files.upload()\n",
    "\n",
    "! mkdir ~/.kaggle\n",
    "! cp kaggle.json ~/.kaggle/\n",
    "! chmod 600 ~/.kaggle/kaggle.json"
   ]
  },
  {
   "cell_type": "code",
   "execution_count": null,
   "metadata": {
    "id": "xTC06UgnUowp"
   },
   "outputs": [],
   "source": [
    "%%capture\n",
    "! kaggle datasets download 'sigfest/database-for-emotion-recognition-system-gameemo'\n",
    "! unzip database-for-emotion-recognition-system-gameemo.zip\n",
    "\n",
    "# /content/database-for-emotion-recognition-system-gameemo.zip\n",
    "path = '/content/GAMEEMO'"
   ]
  },
  {
   "cell_type": "code",
   "execution_count": null,
   "metadata": {
    "colab": {
     "base_uri": "https://localhost:8080/"
    },
    "id": "tkGiS5yzU0G2",
    "outputId": "279e6ac0-9043-45a8-871b-3fe16a909128"
   },
   "outputs": [
    {
     "name": "stdout",
     "output_type": "stream",
     "text": [
      "Collecting mne\n",
      "  Downloading mne-1.9.0-py3-none-any.whl.metadata (20 kB)\n",
      "Requirement already satisfied: decorator in /usr/local/lib/python3.11/dist-packages (from mne) (4.4.2)\n",
      "Requirement already satisfied: jinja2 in /usr/local/lib/python3.11/dist-packages (from mne) (3.1.6)\n",
      "Requirement already satisfied: lazy-loader>=0.3 in /usr/local/lib/python3.11/dist-packages (from mne) (0.4)\n",
      "Requirement already satisfied: matplotlib>=3.6 in /usr/local/lib/python3.11/dist-packages (from mne) (3.10.0)\n",
      "Requirement already satisfied: numpy<3,>=1.23 in /usr/local/lib/python3.11/dist-packages (from mne) (2.0.2)\n",
      "Requirement already satisfied: packaging in /usr/local/lib/python3.11/dist-packages (from mne) (24.2)\n",
      "Requirement already satisfied: pooch>=1.5 in /usr/local/lib/python3.11/dist-packages (from mne) (1.8.2)\n",
      "Requirement already satisfied: scipy>=1.9 in /usr/local/lib/python3.11/dist-packages (from mne) (1.14.1)\n",
      "Requirement already satisfied: tqdm in /usr/local/lib/python3.11/dist-packages (from mne) (4.67.1)\n",
      "Requirement already satisfied: contourpy>=1.0.1 in /usr/local/lib/python3.11/dist-packages (from matplotlib>=3.6->mne) (1.3.1)\n",
      "Requirement already satisfied: cycler>=0.10 in /usr/local/lib/python3.11/dist-packages (from matplotlib>=3.6->mne) (0.12.1)\n",
      "Requirement already satisfied: fonttools>=4.22.0 in /usr/local/lib/python3.11/dist-packages (from matplotlib>=3.6->mne) (4.56.0)\n",
      "Requirement already satisfied: kiwisolver>=1.3.1 in /usr/local/lib/python3.11/dist-packages (from matplotlib>=3.6->mne) (1.4.8)\n",
      "Requirement already satisfied: pillow>=8 in /usr/local/lib/python3.11/dist-packages (from matplotlib>=3.6->mne) (11.1.0)\n",
      "Requirement already satisfied: pyparsing>=2.3.1 in /usr/local/lib/python3.11/dist-packages (from matplotlib>=3.6->mne) (3.2.1)\n",
      "Requirement already satisfied: python-dateutil>=2.7 in /usr/local/lib/python3.11/dist-packages (from matplotlib>=3.6->mne) (2.8.2)\n",
      "Requirement already satisfied: platformdirs>=2.5.0 in /usr/local/lib/python3.11/dist-packages (from pooch>=1.5->mne) (4.3.6)\n",
      "Requirement already satisfied: requests>=2.19.0 in /usr/local/lib/python3.11/dist-packages (from pooch>=1.5->mne) (2.32.3)\n",
      "Requirement already satisfied: MarkupSafe>=2.0 in /usr/local/lib/python3.11/dist-packages (from jinja2->mne) (3.0.2)\n",
      "Requirement already satisfied: six>=1.5 in /usr/local/lib/python3.11/dist-packages (from python-dateutil>=2.7->matplotlib>=3.6->mne) (1.17.0)\n",
      "Requirement already satisfied: charset-normalizer<4,>=2 in /usr/local/lib/python3.11/dist-packages (from requests>=2.19.0->pooch>=1.5->mne) (3.4.1)\n",
      "Requirement already satisfied: idna<4,>=2.5 in /usr/local/lib/python3.11/dist-packages (from requests>=2.19.0->pooch>=1.5->mne) (3.10)\n",
      "Requirement already satisfied: urllib3<3,>=1.21.1 in /usr/local/lib/python3.11/dist-packages (from requests>=2.19.0->pooch>=1.5->mne) (2.3.0)\n",
      "Requirement already satisfied: certifi>=2017.4.17 in /usr/local/lib/python3.11/dist-packages (from requests>=2.19.0->pooch>=1.5->mne) (2025.1.31)\n",
      "Downloading mne-1.9.0-py3-none-any.whl (7.4 MB)\n",
      "\u001b[2K   \u001b[90m━━━━━━━━━━━━━━━━━━━━━━━━━━━━━━━━━━━━━━━━\u001b[0m \u001b[32m7.4/7.4 MB\u001b[0m \u001b[31m32.9 MB/s\u001b[0m eta \u001b[36m0:00:00\u001b[0m\n",
      "\u001b[?25hInstalling collected packages: mne\n",
      "Successfully installed mne-1.9.0\n",
      "Collecting pymatreader\n",
      "  Downloading pymatreader-1.0.0-py3-none-any.whl.metadata (1.5 kB)\n",
      "Requirement already satisfied: h5py in /usr/local/lib/python3.11/dist-packages (from pymatreader) (3.13.0)\n",
      "Requirement already satisfied: numpy in /usr/local/lib/python3.11/dist-packages (from pymatreader) (2.0.2)\n",
      "Requirement already satisfied: scipy>=1.7.1 in /usr/local/lib/python3.11/dist-packages (from pymatreader) (1.14.1)\n",
      "Collecting xmltodict (from pymatreader)\n",
      "  Downloading xmltodict-0.14.2-py2.py3-none-any.whl.metadata (8.0 kB)\n",
      "Downloading pymatreader-1.0.0-py3-none-any.whl (9.3 kB)\n",
      "Downloading xmltodict-0.14.2-py2.py3-none-any.whl (10.0 kB)\n",
      "Installing collected packages: xmltodict, pymatreader\n",
      "Successfully installed pymatreader-1.0.0 xmltodict-0.14.2\n"
     ]
    }
   ],
   "source": [
    "!pip install mne\n",
    "!pip install pymatreader\n",
    "import mne"
   ]
  },
  {
   "cell_type": "code",
   "execution_count": null,
   "metadata": {
    "colab": {
     "base_uri": "https://localhost:8080/",
     "height": 35
    },
    "id": "7940R0g7VBWX",
    "outputId": "c5cda712-a0de-4c57-d576-8ff0c2c0595d"
   },
   "outputs": [
    {
     "data": {
      "application/vnd.google.colaboratory.intrinsic+json": {
       "type": "string"
      },
      "text/plain": [
       "'\\nprint(raw._data[8, :11])\\nprint(type(raw._data))\\nprint(raw._data.shape)\\n'"
      ]
     },
     "execution_count": 7,
     "metadata": {},
     "output_type": "execute_result"
    }
   ],
   "source": [
    "#FOR EX: If we want to access only the first 10 time points of channel 8 we would use:\n",
    "\"\"\"\n",
    "print(raw._data[8, :11])\n",
    "print(type(raw._data))\n",
    "print(raw._data.shape)\n",
    "\"\"\""
   ]
  },
  {
   "cell_type": "code",
   "execution_count": null,
   "metadata": {
    "colab": {
     "base_uri": "https://localhost:8080/"
    },
    "id": "cIuqHHpwU6Y7",
    "outputId": "03a7daf0-879f-4b53-a49e-b25ec9d51d12"
   },
   "outputs": [
    {
     "name": "stdout",
     "output_type": "stream",
     "text": [
      "Creating RawArray with float64 data, n_channels=14, n_times=38252\n",
      "    Range : 0 ... 38251 =      0.000 ...   298.836 secs\n",
      "Ready.\n",
      "Creating RawArray with float64 data, n_channels=14, n_times=38252\n",
      "    Range : 0 ... 38251 =      0.000 ...   298.836 secs\n",
      "Ready.\n",
      "Creating RawArray with float64 data, n_channels=14, n_times=38252\n",
      "    Range : 0 ... 38251 =      0.000 ...   298.836 secs\n",
      "Ready.\n",
      "Creating RawArray with float64 data, n_channels=14, n_times=38252\n",
      "    Range : 0 ... 38251 =      0.000 ...   298.836 secs\n",
      "Ready.\n"
     ]
    },
    {
     "data": {
      "text/plain": [
       "([array([[  9.1588,   7.6454,   1.1609, ...,   4.9624,  -3.7712, -12.9451],\n",
       "         [ -4.8205,  -6.9414,  -9.6586, ...,   1.1039,  -4.0238,  -4.5053],\n",
       "         [ 20.7284,  11.7719,  15.6447, ...,  -4.6647,  -3.6617,  -9.4676],\n",
       "         ...,\n",
       "         [  4.3385,   4.5602,   7.4198, ...,   1.3582,   8.7485,   4.1262],\n",
       "         [ -4.3385,  -4.5602,  -1.6352, ...,  -5.0825,  -1.1622,   3.9691],\n",
       "         [ 10.6051,  14.3075,   5.4951, ...,   2.2563,   2.8441,  -2.3881]]),\n",
       "  array([[-23.6207 , -14.0083 , -19.4348 , ...,   8.0576 ,   1.7898 ,\n",
       "           -7.9588 ],\n",
       "         [-21.6925 , -17.9804 , -16.902  , ...,   8.7568 ,  13.5338 ,\n",
       "            5.9731 ],\n",
       "         [-20.7282 , -24.7871 , -29.5664 , ..., -10.7091 ,  -3.3178 ,\n",
       "           -4.5648 ],\n",
       "         ...,\n",
       "         [-38.5643 , -34.3223 , -34.6731 , ..., -13.1527 ,  -4.6505 ,\n",
       "           -1.4796 ],\n",
       "         [ 37.6    ,  26.6669 ,  20.2466 , ...,  -2.4561 ,   9.7426 ,\n",
       "            0.48074],\n",
       "         [ 24.1026 ,  26.5129 ,  21.0657 , ...,  -1.2039 ,   6.0994 ,\n",
       "           -4.8716 ]]),\n",
       "  array([[-64.8359 , -62.1507 , -53.3602 , ...,  -7.4538 ,  -3.1502 ,\n",
       "           -2.9614 ],\n",
       "         [-31.5742 , -27.9927 , -23.1798 , ...,  -3.5429 ,  -5.7404 ,\n",
       "           -6.3601 ],\n",
       "         [ 25.7899 ,  26.4118 ,  25.55   , ...,  -2.2574 ,   1.7345 ,\n",
       "            1.6302 ],\n",
       "         ...,\n",
       "         [ 49.4101 ,  53.4353 ,  53.3624 , ...,  -0.2234 ,   0.75433,\n",
       "            4.0833 ],\n",
       "         [-26.7537 , -25.8715 , -26.0067 , ...,   4.7843 ,  -1.2874 ,\n",
       "           -0.24601],\n",
       "         [-25.7896 , -28.3397 , -22.542  , ...,   2.3866 ,   5.6178 ,\n",
       "           -2.4323 ]]),\n",
       "  array([[ 158.3537 ,  158.0118 ,  150.4593 , ...,    8.7406 ,   10.1443 ,\n",
       "            23.6357 ],\n",
       "         [ 121.2361 ,  120.7106 ,  114.9138 , ...,    9.3631 ,   11.6936 ,\n",
       "            24.4892 ],\n",
       "         [ -75.9229 ,  -76.188  ,  -73.5449 , ...,  -19.7618 ,  -20.5043 ,\n",
       "           -29.8792 ],\n",
       "         ...,\n",
       "         [-261.5128 , -247.2683 , -233.8782 , ...,  -12.8352 ,  -15.4395 ,\n",
       "           -19.8155 ],\n",
       "         [  47.     ,   45.1441 ,   55.9328 , ...,   51.3045 ,   49.6725 ,\n",
       "            46.2101 ],\n",
       "         [  47.     ,   47.5542 ,   43.7371 , ...,    6.0392 ,   -0.58993,\n",
       "            -2.0007 ]])],\n",
       " ['1', '2', '3', '4'])"
      ]
     },
     "execution_count": 9,
     "metadata": {},
     "output_type": "execute_result"
    }
   ],
   "source": [
    "def get_patient(pn):\n",
    "  X = [] # data\n",
    "  y = [] # labels\n",
    "  for g in range(1, 5):\n",
    "    g = str(g)\n",
    "    test_csv = os.path.join(path, f'(S{pn})/Preprocessed EEG Data/.csv format/S{pn}G{g}AllChannels.csv')\n",
    "    df = pd.read_csv(test_csv)\n",
    "    df = df.drop(columns=['Unnamed: 14'])\n",
    "    col_names = list(df.columns)\n",
    "    mne_info = mne.create_info(col_names, sfreq=128, ch_types='eeg') # sr should mean 5min result\n",
    "    raw = mne.io.RawArray(df.transpose(), mne_info)\n",
    "    raw.set_montage('standard_1005')\n",
    "    #raw.compute_psd().plot()\n",
    "    X.append(raw._data)\n",
    "    y.append(g)\n",
    "  return X, y\n",
    "\n",
    "get_patient(11)"
   ]
  },
  {
   "cell_type": "code",
   "execution_count": null,
   "metadata": {
    "id": "JwuFndQmWa7G"
   },
   "outputs": [],
   "source": [
    "def get_all_patients():\n",
    "  X = []\n",
    "  y = []\n",
    "  subject_ids = []\n",
    "  for pn in tqdm(range(1, 29)):\n",
    "    pn = str(pn).zfill(2)\n",
    "    for g in range(1, 5):\n",
    "      test_csv = os.path.join(path, f'(S{pn})/Preprocessed EEG Data/.csv format/S{pn}G{g}AllChannels.csv')\n",
    "      df = pd.read_csv(test_csv)\n",
    "      df = df.drop(columns=['Unnamed: 14'])\n",
    "      col_names = list(df.columns)\n",
    "      mne_info = mne.create_info(col_names, sfreq=128, ch_types='eeg') # sr should mean 5min result\n",
    "      raw = mne.io.RawArray(df.transpose(), mne_info, verbose='CRITICAL')\n",
    "      raw.set_montage('standard_1005')\n",
    "      X.append(raw._data)\n",
    "      y.append(g)\n",
    "      subject_ids.append(pn)\n",
    "  #return X, y, subject_ids\n",
    "  return np.array(X), np.array(y), np.array(subject_ids)"
   ]
  },
  {
   "cell_type": "code",
   "execution_count": null,
   "metadata": {
    "colab": {
     "base_uri": "https://localhost:8080/"
    },
    "id": "KM0JjQ-QXfrQ",
    "outputId": "a7c5b79a-7116-4e3f-8684-bcbd77f535f7"
   },
   "outputs": [
    {
     "name": "stderr",
     "output_type": "stream",
     "text": [
      "100%|██████████| 28/28 [00:15<00:00,  1.76it/s]\n"
     ]
    },
    {
     "data": {
      "text/plain": [
       "(112, 14, 38252)"
      ]
     },
     "execution_count": 25,
     "metadata": {},
     "output_type": "execute_result"
    }
   ],
   "source": [
    "datas, labels, subjects = get_all_patients()\n",
    "datas.shape"
   ]
  },
  {
   "cell_type": "code",
   "execution_count": null,
   "metadata": {
    "colab": {
     "base_uri": "https://localhost:8080/"
    },
    "id": "_963RMshYnFu",
    "outputId": "e8809484-5c2f-4dda-a76b-29aeca6e19fd"
   },
   "outputs": [
    {
     "data": {
      "text/plain": [
       "(112, (14, 38252))"
      ]
     },
     "execution_count": 26,
     "metadata": {},
     "output_type": "execute_result"
    }
   ],
   "source": [
    "len(datas), datas[0].shape"
   ]
  },
  {
   "cell_type": "code",
   "execution_count": null,
   "metadata": {
    "colab": {
     "base_uri": "https://localhost:8080/"
    },
    "id": "9XbCPw9uaIBQ",
    "outputId": "18175595-7df1-4cad-c4e0-bb318fc80165"
   },
   "outputs": [
    {
     "data": {
      "text/plain": [
       "((112, 56),\n",
       " array([[ 1.36107224e-02,  6.08219408e-03,  4.38608942e-03, ...,\n",
       "          5.56290000e+01,  1.14101300e+02,  5.63144000e+01],\n",
       "        [ 1.03475354e-02,  3.08122091e-03,  2.40548920e-02, ...,\n",
       "          5.41328000e+01,  2.26865200e+02,  4.20870000e+01],\n",
       "        [ 1.22379994e-02,  2.76708327e-03,  1.92538069e-02, ...,\n",
       "          8.31734000e+01,  9.45867000e+01,  4.31276000e+01],\n",
       "        ...,\n",
       "        [ 6.15980926e-04,  4.17026657e-03,  7.05672915e-03, ...,\n",
       "          1.40896600e+02,  9.63592000e+01,  7.31873000e+01],\n",
       "        [ 2.28642922e-03,  7.66382371e-03, -2.74298811e-03, ...,\n",
       "          8.89611000e+01,  6.81332000e+01,  1.24924500e+02],\n",
       "        [ 1.12802521e-02,  3.56101225e-02, -1.34141074e-02, ...,\n",
       "          6.52470000e+01,  4.72132000e+01,  5.26304000e+01]]))"
      ]
     },
     "execution_count": 28,
     "metadata": {},
     "output_type": "execute_result"
    }
   ],
   "source": [
    "# CLAUDE 3.7 Sonnet\n",
    "def extract_features(X):\n",
    "    \"\"\"\n",
    "    Extract features from EEG data.\n",
    "\n",
    "    Parameters:\n",
    "    X (np.array): Raw EEG data with shape (n_samples, n_channels, n_timepoints)\n",
    "\n",
    "    Returns:\n",
    "    features (np.array): Extracted features with shape (n_samples, n_features)\n",
    "    \"\"\"\n",
    "    n_samples = X.shape[0]\n",
    "    features = []\n",
    "\n",
    "    for i in range(n_samples):\n",
    "        sample_features = []\n",
    "\n",
    "        # For each channel, extract:\n",
    "        # 1. Mean\n",
    "        # 2. Standard deviation\n",
    "        # 3. Min, Max\n",
    "        # 4. Frequency domain features (if needed)\n",
    "\n",
    "        # Mean and std for each channel\n",
    "        channel_means = np.mean(X[i], axis=1)\n",
    "        channel_stds = np.std(X[i], axis=1)\n",
    "\n",
    "        # Min and max for each channel\n",
    "        channel_mins = np.min(X[i], axis=1)\n",
    "        channel_maxs = np.max(X[i], axis=1)\n",
    "\n",
    "        # Combine features\n",
    "        sample_features = np.concatenate([\n",
    "            channel_means,\n",
    "            channel_stds,\n",
    "            channel_mins,\n",
    "            channel_maxs\n",
    "        ])\n",
    "\n",
    "        features.append(sample_features)\n",
    "\n",
    "    return np.array(features)\n",
    "\n",
    "features = extract_features(datas)\n",
    "features.shape, features"
   ]
  },
  {
   "cell_type": "code",
   "execution_count": null,
   "metadata": {
    "id": "_bWO4KC0arZx"
   },
   "outputs": [],
   "source": [
    "# CLAUDE 3.7 Sonnet\n",
    "from sklearn.model_selection import train_test_split, cross_val_score\n",
    "from sklearn.preprocessing import StandardScaler\n",
    "from sklearn.pipeline import Pipeline\n",
    "from sklearn.linear_model import LogisticRegression\n",
    "from sklearn.discriminant_analysis import LinearDiscriminantAnalysis\n",
    "from sklearn.metrics import classification_report, confusion_matrix\n",
    "import matplotlib.pyplot as plt\n",
    "import seaborn as sns\n",
    "def train_evaluate_model(X, y, subject_ids, test_size=0.2, random_state=42):\n",
    "    \"\"\"\n",
    "    Train and evaluate a classification model on the EEG data.\n",
    "    Uses subject-wise splitting to ensure no data leakage.\n",
    "\n",
    "    Parameters:\n",
    "    X (np.array): Feature array\n",
    "    y (np.array): Labels array\n",
    "    subject_ids (np.array): Subject IDs array\n",
    "    test_size (float): Proportion of data to use for testing\n",
    "    random_state (int): Random seed for reproducibility\n",
    "\n",
    "    Returns:\n",
    "    model (Pipeline): Trained classification model\n",
    "    test_accuracy (float): Accuracy on the test set\n",
    "    \"\"\"\n",
    "    # Get unique subject IDs\n",
    "    unique_subjects = np.unique(subject_ids)\n",
    "\n",
    "    # Split subjects into train and test groups\n",
    "    train_subjects, test_subjects = train_test_split(\n",
    "        unique_subjects, test_size=test_size, random_state=random_state\n",
    "    )\n",
    "\n",
    "    # Create train and test masks based on subject IDs\n",
    "    train_mask = np.isin(subject_ids, train_subjects)\n",
    "    test_mask = np.isin(subject_ids, test_subjects)\n",
    "\n",
    "    X_train, X_test = X[train_mask], X[test_mask]\n",
    "    y_train, y_test = y[train_mask], y[test_mask]\n",
    "\n",
    "    # Create and train the model\n",
    "    model = Pipeline([\n",
    "        ('scaler', StandardScaler()),\n",
    "        ('classifier', LogisticRegression(C=1.0, penalty='l2', solver='liblinear', max_iter=1000))\n",
    "    ])\n",
    "\n",
    "    # Train the model\n",
    "    model.fit(X_train, y_train)\n",
    "\n",
    "    # Evaluate\n",
    "    train_accuracy = model.score(X_train, y_train)\n",
    "    test_accuracy = model.score(X_test, y_test)\n",
    "\n",
    "    print(f\"Train accuracy: {train_accuracy:.3f}\")\n",
    "    print(f\"Test accuracy: {test_accuracy:.3f}\")\n",
    "\n",
    "    # Detailed evaluation\n",
    "    y_pred = model.predict(X_test)\n",
    "    print(\"\\nClassification Report:\")\n",
    "    print(classification_report(y_test, y_pred))\n",
    "\n",
    "    # Confusion matrix\n",
    "    cm = confusion_matrix(y_test, y_pred)\n",
    "    plt.figure(figsize=(10, 8))\n",
    "    sns.heatmap(cm, annot=True, fmt='d', cmap='Blues')\n",
    "    plt.xlabel('Predicted')\n",
    "    plt.ylabel('True')\n",
    "    plt.title('Confusion Matrix')\n",
    "    plt.show()\n",
    "\n",
    "    return model, test_accuracy"
   ]
  },
  {
   "cell_type": "code",
   "execution_count": null,
   "metadata": {
    "colab": {
     "base_uri": "https://localhost:8080/",
     "height": 1000
    },
    "id": "xwiei91Ca9_C",
    "outputId": "f3a86bca-a9bb-4645-c53b-65e93e1e7c75"
   },
   "outputs": [
    {
     "name": "stdout",
     "output_type": "stream",
     "text": [
      "Loading EEG dataset...\n"
     ]
    },
    {
     "name": "stderr",
     "output_type": "stream",
     "text": [
      "100%|██████████| 28/28 [00:15<00:00,  1.78it/s]\n"
     ]
    },
    {
     "name": "stdout",
     "output_type": "stream",
     "text": [
      "Dataset loaded: 112 samples, 4 classes\n",
      "Samples per class: [28, 28, 28, 28]\n",
      "Number of subjects: 28\n",
      "Extracting features...\n",
      "Features extracted: 56 features per sample\n",
      "Training and evaluating model...\n",
      "Train accuracy: 1.000\n",
      "Test accuracy: 0.708\n",
      "\n",
      "Classification Report:\n",
      "              precision    recall  f1-score   support\n",
      "\n",
      "           1       0.67      0.67      0.67         6\n",
      "           2       0.83      0.83      0.83         6\n",
      "           3       0.71      0.83      0.77         6\n",
      "           4       0.60      0.50      0.55         6\n",
      "\n",
      "    accuracy                           0.71        24\n",
      "   macro avg       0.70      0.71      0.70        24\n",
      "weighted avg       0.70      0.71      0.70        24\n",
      "\n"
     ]
    },
    {
     "data": {
      "image/png": "[encoded data removed]",
      "text/plain": [
       "<Figure size 1000x800 with 2 Axes>"
      ]
     },
     "metadata": {},
     "output_type": "display_data"
    },
    {
     "name": "stdout",
     "output_type": "stream",
     "text": [
      "Final model accuracy: 0.708\n"
     ]
    },
    {
     "ename": "SyntaxError",
     "evalue": "'return' outside function (<ipython-input-31-3bd4f6adf049>, line 19)",
     "output_type": "error",
     "traceback": [
      "\u001b[0;36m  File \u001b[0;32m\"<ipython-input-31-3bd4f6adf049>\"\u001b[0;36m, line \u001b[0;32m19\u001b[0m\n\u001b[0;31m    return model\u001b[0m\n\u001b[0m    ^\u001b[0m\n\u001b[0;31mSyntaxError\u001b[0m\u001b[0;31m:\u001b[0m 'return' outside function\n"
     ]
    }
   ],
   "source": [
    "# CLAUDE 3.7 Sonnet\n",
    "print(\"Loading EEG dataset...\")\n",
    "X_raw, y, subject_ids = get_all_patients() #load_eeg_dataset(base_dir)\n",
    "\n",
    "print(f\"Dataset loaded: {X_raw.shape[0]} samples, {len(np.unique(y))} classes\")\n",
    "print(f\"Samples per class: {pd.Series(y).value_counts().sort_index().tolist()}\")\n",
    "print(f\"Number of subjects: {len(np.unique(subject_ids))}\")\n",
    "\n",
    "# Extract features\n",
    "print(\"Extracting features...\")\n",
    "X_features = extract_features(X_raw)\n",
    "print(f\"Features extracted: {X_features.shape[1]} features per sample\")\n",
    "\n",
    "# Train and evaluate\n",
    "print(\"Training and evaluating model...\")\n",
    "model, accuracy = train_evaluate_model(X_features, y, subject_ids)\n",
    "\n",
    "print(f\"Final model accuracy: {accuracy:.3f}\")\n",
    "return model"
   ]
  }
 ],
 "metadata": {
  "colab": {
   "provenance": []
  },
  "kernelspec": {
   "display_name": "Python 3 (ipykernel)",
   "language": "python",
   "name": "python3"
  },
  "language_info": {
   "codemirror_mode": {
    "name": "ipython",
    "version": 3
   },
   "file_extension": ".py",
   "mimetype": "text/x-python",
   "name": "python",
   "nbconvert_exporter": "python",
   "pygments_lexer": "ipython3",
   "version": "3.12.8"
  }
 },
 "nbformat": 4,
 "nbformat_minor": 4
}
